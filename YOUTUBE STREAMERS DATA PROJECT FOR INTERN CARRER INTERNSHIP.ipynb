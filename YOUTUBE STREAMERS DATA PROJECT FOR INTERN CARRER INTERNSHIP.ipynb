{
 "cells": [
  {
   "cell_type": "markdown",
   "id": "c230e7c1",
   "metadata": {},
   "source": [
    "# 1. Data Exploration"
   ]
  },
  {
   "cell_type": "code",
   "execution_count": 1,
   "id": "9a8836ea",
   "metadata": {},
   "outputs": [],
   "source": [
    "#importing my libraries\n",
    "import pandas as pd\n",
    "import numpy as np\n",
    "import matplotlib.pyplot as plt\n",
    "import seaborn as sns\n",
    "import warnings\n",
    "warnings.filterwarnings('ignore')"
   ]
  },
  {
   "cell_type": "code",
   "execution_count": 2,
   "id": "bef5ba91",
   "metadata": {},
   "outputs": [
    {
     "name": "stdout",
     "output_type": "stream",
     "text": [
      "C:\\Users\\Ikeoluwa\\Documents\\YOUTUBE STREAMERS DATA PROJECT FOR INTERN CARRER INTERNSHIP\n",
      "utf-8\n"
     ]
    }
   ],
   "source": [
    "#importing and reading the csv file of the datatset\n",
    "import os\n",
    "import chardet\n",
    "notebook_path = os.getcwd()\n",
    "print(notebook_path)\n",
    "with open('youtubers_df.csv','rb') as f:\n",
    "    result = chardet.detect(f.read())\n",
    "print(result['encoding'])\n",
    "dataset = pd.read_csv(\"youtubers_df.csv\",encoding = 'utf-8')"
   ]
  },
  {
   "cell_type": "code",
   "execution_count": 3,
   "id": "379d9f23",
   "metadata": {
    "scrolled": false
   },
   "outputs": [
    {
     "name": "stdout",
     "output_type": "stream",
     "text": [
      "<class 'pandas.core.frame.DataFrame'>\n",
      "RangeIndex: 1000 entries, 0 to 999\n",
      "Data columns (total 9 columns):\n",
      " #   Column      Non-Null Count  Dtype  \n",
      "---  ------      --------------  -----  \n",
      " 0   Rank        1000 non-null   int64  \n",
      " 1   Username    1000 non-null   object \n",
      " 2   Categories  694 non-null    object \n",
      " 3   Suscribers  1000 non-null   float64\n",
      " 4   Country     1000 non-null   object \n",
      " 5   Visits      1000 non-null   float64\n",
      " 6   Likes       1000 non-null   float64\n",
      " 7   Comments    1000 non-null   float64\n",
      " 8   Links       1000 non-null   object \n",
      "dtypes: float64(4), int64(1), object(4)\n",
      "memory usage: 70.4+ KB\n"
     ]
    },
    {
     "data": {
      "text/plain": [
       "Rank            int64\n",
       "Username       object\n",
       "Categories     object\n",
       "Suscribers    float64\n",
       "Country        object\n",
       "Visits        float64\n",
       "Likes         float64\n",
       "Comments      float64\n",
       "Links          object\n",
       "dtype: object"
      ]
     },
     "execution_count": 3,
     "metadata": {},
     "output_type": "execute_result"
    }
   ],
   "source": [
    "dataset.info() #This displays the general information about the dataset\n",
    "dataset.dtypes #This displays the data types of each column"
   ]
  },
  {
   "cell_type": "code",
   "execution_count": 4,
   "id": "c7263b6f",
   "metadata": {},
   "outputs": [
    {
     "data": {
      "text/html": [
       "<div>\n",
       "<style scoped>\n",
       "    .dataframe tbody tr th:only-of-type {\n",
       "        vertical-align: middle;\n",
       "    }\n",
       "\n",
       "    .dataframe tbody tr th {\n",
       "        vertical-align: top;\n",
       "    }\n",
       "\n",
       "    .dataframe thead th {\n",
       "        text-align: right;\n",
       "    }\n",
       "</style>\n",
       "<table border=\"1\" class=\"dataframe\">\n",
       "  <thead>\n",
       "    <tr style=\"text-align: right;\">\n",
       "      <th></th>\n",
       "      <th>Rank</th>\n",
       "      <th>Username</th>\n",
       "      <th>Categories</th>\n",
       "      <th>Suscribers</th>\n",
       "      <th>Country</th>\n",
       "      <th>Visits</th>\n",
       "      <th>Likes</th>\n",
       "      <th>Comments</th>\n",
       "      <th>Links</th>\n",
       "    </tr>\n",
       "  </thead>\n",
       "  <tbody>\n",
       "    <tr>\n",
       "      <th>0</th>\n",
       "      <td>1</td>\n",
       "      <td>tseries</td>\n",
       "      <td>Música y baile</td>\n",
       "      <td>249500000.0</td>\n",
       "      <td>India</td>\n",
       "      <td>86200.0</td>\n",
       "      <td>2700.0</td>\n",
       "      <td>78.0</td>\n",
       "      <td>http://youtube.com/channel/UCq-Fj5jknLsUf-MWSy...</td>\n",
       "    </tr>\n",
       "    <tr>\n",
       "      <th>1</th>\n",
       "      <td>2</td>\n",
       "      <td>MrBeast</td>\n",
       "      <td>Videojuegos, Humor</td>\n",
       "      <td>183500000.0</td>\n",
       "      <td>Estados Unidos</td>\n",
       "      <td>117400000.0</td>\n",
       "      <td>5300000.0</td>\n",
       "      <td>18500.0</td>\n",
       "      <td>http://youtube.com/channel/UCX6OQ3DkcsbYNE6H8u...</td>\n",
       "    </tr>\n",
       "    <tr>\n",
       "      <th>2</th>\n",
       "      <td>3</td>\n",
       "      <td>CoComelon</td>\n",
       "      <td>Educación</td>\n",
       "      <td>165500000.0</td>\n",
       "      <td>Unknown</td>\n",
       "      <td>7000000.0</td>\n",
       "      <td>24700.0</td>\n",
       "      <td>0.0</td>\n",
       "      <td>http://youtube.com/channel/UCbCmjCuTUZos6Inko4...</td>\n",
       "    </tr>\n",
       "    <tr>\n",
       "      <th>3</th>\n",
       "      <td>4</td>\n",
       "      <td>SETIndia</td>\n",
       "      <td>NaN</td>\n",
       "      <td>162600000.0</td>\n",
       "      <td>India</td>\n",
       "      <td>15600.0</td>\n",
       "      <td>166.0</td>\n",
       "      <td>9.0</td>\n",
       "      <td>http://youtube.com/channel/UCpEhnqL0y41EpW2TvW...</td>\n",
       "    </tr>\n",
       "    <tr>\n",
       "      <th>4</th>\n",
       "      <td>5</td>\n",
       "      <td>KidsDianaShow</td>\n",
       "      <td>Animación, Juguetes</td>\n",
       "      <td>113500000.0</td>\n",
       "      <td>Unknown</td>\n",
       "      <td>3900000.0</td>\n",
       "      <td>12400.0</td>\n",
       "      <td>0.0</td>\n",
       "      <td>http://youtube.com/channel/UCk8GzjMOrta8yxDcKf...</td>\n",
       "    </tr>\n",
       "  </tbody>\n",
       "</table>\n",
       "</div>"
      ],
      "text/plain": [
       "   Rank       Username           Categories   Suscribers         Country  \\\n",
       "0     1        tseries       Música y baile  249500000.0           India   \n",
       "1     2        MrBeast   Videojuegos, Humor  183500000.0  Estados Unidos   \n",
       "2     3      CoComelon            Educación  165500000.0         Unknown   \n",
       "3     4       SETIndia                  NaN  162600000.0           India   \n",
       "4     5  KidsDianaShow  Animación, Juguetes  113500000.0         Unknown   \n",
       "\n",
       "        Visits      Likes  Comments  \\\n",
       "0      86200.0     2700.0      78.0   \n",
       "1  117400000.0  5300000.0   18500.0   \n",
       "2    7000000.0    24700.0       0.0   \n",
       "3      15600.0      166.0       9.0   \n",
       "4    3900000.0    12400.0       0.0   \n",
       "\n",
       "                                               Links  \n",
       "0  http://youtube.com/channel/UCq-Fj5jknLsUf-MWSy...  \n",
       "1  http://youtube.com/channel/UCX6OQ3DkcsbYNE6H8u...  \n",
       "2  http://youtube.com/channel/UCbCmjCuTUZos6Inko4...  \n",
       "3  http://youtube.com/channel/UCpEhnqL0y41EpW2TvW...  \n",
       "4  http://youtube.com/channel/UCk8GzjMOrta8yxDcKf...  "
      ]
     },
     "execution_count": 4,
     "metadata": {},
     "output_type": "execute_result"
    }
   ],
   "source": [
    "dataset.head() #this displays the first five rows of the dataset"
   ]
  },
  {
   "cell_type": "code",
   "execution_count": 5,
   "id": "255e6bf0",
   "metadata": {},
   "outputs": [
    {
     "data": {
      "text/html": [
       "<div>\n",
       "<style scoped>\n",
       "    .dataframe tbody tr th:only-of-type {\n",
       "        vertical-align: middle;\n",
       "    }\n",
       "\n",
       "    .dataframe tbody tr th {\n",
       "        vertical-align: top;\n",
       "    }\n",
       "\n",
       "    .dataframe thead th {\n",
       "        text-align: right;\n",
       "    }\n",
       "</style>\n",
       "<table border=\"1\" class=\"dataframe\">\n",
       "  <thead>\n",
       "    <tr style=\"text-align: right;\">\n",
       "      <th></th>\n",
       "      <th>Rank</th>\n",
       "      <th>Suscribers</th>\n",
       "      <th>Visits</th>\n",
       "      <th>Likes</th>\n",
       "      <th>Comments</th>\n",
       "    </tr>\n",
       "  </thead>\n",
       "  <tbody>\n",
       "    <tr>\n",
       "      <th>count</th>\n",
       "      <td>1000.000000</td>\n",
       "      <td>1.000000e+03</td>\n",
       "      <td>1.000000e+03</td>\n",
       "      <td>1.000000e+03</td>\n",
       "      <td>1000.000000</td>\n",
       "    </tr>\n",
       "    <tr>\n",
       "      <th>mean</th>\n",
       "      <td>500.500000</td>\n",
       "      <td>2.189440e+07</td>\n",
       "      <td>1.209446e+06</td>\n",
       "      <td>5.363259e+04</td>\n",
       "      <td>1288.768000</td>\n",
       "    </tr>\n",
       "    <tr>\n",
       "      <th>std</th>\n",
       "      <td>288.819436</td>\n",
       "      <td>1.682775e+07</td>\n",
       "      <td>5.229942e+06</td>\n",
       "      <td>2.580457e+05</td>\n",
       "      <td>6778.188308</td>\n",
       "    </tr>\n",
       "    <tr>\n",
       "      <th>min</th>\n",
       "      <td>1.000000</td>\n",
       "      <td>1.170000e+07</td>\n",
       "      <td>0.000000e+00</td>\n",
       "      <td>0.000000e+00</td>\n",
       "      <td>0.000000</td>\n",
       "    </tr>\n",
       "    <tr>\n",
       "      <th>25%</th>\n",
       "      <td>250.750000</td>\n",
       "      <td>1.380000e+07</td>\n",
       "      <td>3.197500e+04</td>\n",
       "      <td>4.717500e+02</td>\n",
       "      <td>2.000000</td>\n",
       "    </tr>\n",
       "    <tr>\n",
       "      <th>50%</th>\n",
       "      <td>500.500000</td>\n",
       "      <td>1.675000e+07</td>\n",
       "      <td>1.744500e+05</td>\n",
       "      <td>3.500000e+03</td>\n",
       "      <td>67.000000</td>\n",
       "    </tr>\n",
       "    <tr>\n",
       "      <th>75%</th>\n",
       "      <td>750.250000</td>\n",
       "      <td>2.370000e+07</td>\n",
       "      <td>8.654750e+05</td>\n",
       "      <td>2.865000e+04</td>\n",
       "      <td>472.000000</td>\n",
       "    </tr>\n",
       "    <tr>\n",
       "      <th>max</th>\n",
       "      <td>1000.000000</td>\n",
       "      <td>2.495000e+08</td>\n",
       "      <td>1.174000e+08</td>\n",
       "      <td>5.300000e+06</td>\n",
       "      <td>154000.000000</td>\n",
       "    </tr>\n",
       "  </tbody>\n",
       "</table>\n",
       "</div>"
      ],
      "text/plain": [
       "              Rank    Suscribers        Visits         Likes       Comments\n",
       "count  1000.000000  1.000000e+03  1.000000e+03  1.000000e+03    1000.000000\n",
       "mean    500.500000  2.189440e+07  1.209446e+06  5.363259e+04    1288.768000\n",
       "std     288.819436  1.682775e+07  5.229942e+06  2.580457e+05    6778.188308\n",
       "min       1.000000  1.170000e+07  0.000000e+00  0.000000e+00       0.000000\n",
       "25%     250.750000  1.380000e+07  3.197500e+04  4.717500e+02       2.000000\n",
       "50%     500.500000  1.675000e+07  1.744500e+05  3.500000e+03      67.000000\n",
       "75%     750.250000  2.370000e+07  8.654750e+05  2.865000e+04     472.000000\n",
       "max    1000.000000  2.495000e+08  1.174000e+08  5.300000e+06  154000.000000"
      ]
     },
     "execution_count": 5,
     "metadata": {},
     "output_type": "execute_result"
    }
   ],
   "source": [
    "dataset.describe() #This displays the basic statisitics for numerical columns"
   ]
  },
  {
   "cell_type": "code",
   "execution_count": 6,
   "id": "796ed88d",
   "metadata": {},
   "outputs": [
    {
     "name": "stdout",
     "output_type": "stream",
     "text": [
      "Rank            0\n",
      "Username        0\n",
      "Categories    306\n",
      "Suscribers      0\n",
      "Country         0\n",
      "Visits          0\n",
      "Likes           0\n",
      "Comments        0\n",
      "Links           0\n",
      "dtype: int64\n"
     ]
    }
   ],
   "source": [
    "print(dataset.isnull().sum())  #checking for missing values"
   ]
  },
  {
   "cell_type": "code",
   "execution_count": 7,
   "id": "7fb12180",
   "metadata": {
    "scrolled": true
   },
   "outputs": [
    {
     "data": {
      "image/png": "[encoded data removed]",
      "text/plain": [
       "<Figure size 576x432 with 1 Axes>"
      ]
     },
     "metadata": {
      "needs_background": "light"
     },
     "output_type": "display_data"
    }
   ],
   "source": [
    "#Identifying outliers\n",
    "#Creating a box plot to visualize the 'subscribers' column\n",
    "plt.figure(figsize=(8,6))\n",
    "plt.boxplot(dataset['Suscribers'])\n",
    "plt.title('Boxplot of Subscribers')\n",
    "plt.show()"
   ]
  },
  {
   "cell_type": "code",
   "execution_count": 8,
   "id": "87f22c94",
   "metadata": {},
   "outputs": [
    {
     "data": {
      "text/html": [
       "<div>\n",
       "<style scoped>\n",
       "    .dataframe tbody tr th:only-of-type {\n",
       "        vertical-align: middle;\n",
       "    }\n",
       "\n",
       "    .dataframe tbody tr th {\n",
       "        vertical-align: top;\n",
       "    }\n",
       "\n",
       "    .dataframe thead th {\n",
       "        text-align: right;\n",
       "    }\n",
       "</style>\n",
       "<table border=\"1\" class=\"dataframe\">\n",
       "  <thead>\n",
       "    <tr style=\"text-align: right;\">\n",
       "      <th></th>\n",
       "      <th>Rank</th>\n",
       "      <th>Username</th>\n",
       "      <th>Categories</th>\n",
       "      <th>Suscribers</th>\n",
       "      <th>Country</th>\n",
       "      <th>Visits</th>\n",
       "      <th>Likes</th>\n",
       "      <th>Comments</th>\n",
       "      <th>Links</th>\n",
       "    </tr>\n",
       "  </thead>\n",
       "  <tbody>\n",
       "    <tr>\n",
       "      <th>79</th>\n",
       "      <td>80</td>\n",
       "      <td>TheEllenShow</td>\n",
       "      <td>NaN</td>\n",
       "      <td>38300000.0</td>\n",
       "      <td>Estados Unidos</td>\n",
       "      <td>26000.0</td>\n",
       "      <td>433.0</td>\n",
       "      <td>22.0</td>\n",
       "      <td>http://youtube.com/channel/UCp0hYYBW6IMayGgR-W...</td>\n",
       "    </tr>\n",
       "    <tr>\n",
       "      <th>80</th>\n",
       "      <td>81</td>\n",
       "      <td>DaddyYankee</td>\n",
       "      <td>Música y baile</td>\n",
       "      <td>38300000.0</td>\n",
       "      <td>Colombia</td>\n",
       "      <td>82800.0</td>\n",
       "      <td>6500.0</td>\n",
       "      <td>123.0</td>\n",
       "      <td>http://youtube.com/channel/UC9TO_oo4c_LrOiKNaY...</td>\n",
       "    </tr>\n",
       "    <tr>\n",
       "      <th>81</th>\n",
       "      <td>82</td>\n",
       "      <td>LikeNastya_ESP</td>\n",
       "      <td>NaN</td>\n",
       "      <td>38100000.0</td>\n",
       "      <td>Unknown</td>\n",
       "      <td>403800.0</td>\n",
       "      <td>1800.0</td>\n",
       "      <td>0.0</td>\n",
       "      <td>http://youtube.com/channel/UCpEJRZdSpdVZ8vh63T...</td>\n",
       "    </tr>\n",
       "    <tr>\n",
       "      <th>82</th>\n",
       "      <td>83</td>\n",
       "      <td>one31official</td>\n",
       "      <td>NaN</td>\n",
       "      <td>38100000.0</td>\n",
       "      <td>Tailandia</td>\n",
       "      <td>4800.0</td>\n",
       "      <td>122.0</td>\n",
       "      <td>1.0</td>\n",
       "      <td>http://youtube.com/channel/UC8f7MkX4MFOOJ2SerX...</td>\n",
       "    </tr>\n",
       "    <tr>\n",
       "      <th>83</th>\n",
       "      <td>84</td>\n",
       "      <td>ABPNEWS</td>\n",
       "      <td>NaN</td>\n",
       "      <td>38100000.0</td>\n",
       "      <td>India</td>\n",
       "      <td>2400.0</td>\n",
       "      <td>59.0</td>\n",
       "      <td>0.0</td>\n",
       "      <td>http://youtube.com/channel/UCRWFSbif-RFENbBrSi...</td>\n",
       "    </tr>\n",
       "    <tr>\n",
       "      <th>...</th>\n",
       "      <td>...</td>\n",
       "      <td>...</td>\n",
       "      <td>...</td>\n",
       "      <td>...</td>\n",
       "      <td>...</td>\n",
       "      <td>...</td>\n",
       "      <td>...</td>\n",
       "      <td>...</td>\n",
       "      <td>...</td>\n",
       "    </tr>\n",
       "    <tr>\n",
       "      <th>995</th>\n",
       "      <td>996</td>\n",
       "      <td>hamzymukbang</td>\n",
       "      <td>NaN</td>\n",
       "      <td>11700000.0</td>\n",
       "      <td>Estados Unidos</td>\n",
       "      <td>397400.0</td>\n",
       "      <td>14000.0</td>\n",
       "      <td>124.0</td>\n",
       "      <td>http://youtube.com/channel/UCPKNKldggioffXPkSm...</td>\n",
       "    </tr>\n",
       "    <tr>\n",
       "      <th>996</th>\n",
       "      <td>997</td>\n",
       "      <td>Adaahqueen</td>\n",
       "      <td>NaN</td>\n",
       "      <td>11700000.0</td>\n",
       "      <td>India</td>\n",
       "      <td>1100000.0</td>\n",
       "      <td>92500.0</td>\n",
       "      <td>164.0</td>\n",
       "      <td>http://youtube.com/channel/UCk3fFpqI5kDMf__mUP...</td>\n",
       "    </tr>\n",
       "    <tr>\n",
       "      <th>997</th>\n",
       "      <td>998</td>\n",
       "      <td>LittleAngelIndonesia</td>\n",
       "      <td>Música y baile</td>\n",
       "      <td>11700000.0</td>\n",
       "      <td>Unknown</td>\n",
       "      <td>211400.0</td>\n",
       "      <td>745.0</td>\n",
       "      <td>0.0</td>\n",
       "      <td>http://youtube.com/channel/UCdrHrQf0o0TO8YDntX...</td>\n",
       "    </tr>\n",
       "    <tr>\n",
       "      <th>998</th>\n",
       "      <td>999</td>\n",
       "      <td>PenMultiplex</td>\n",
       "      <td>NaN</td>\n",
       "      <td>11700000.0</td>\n",
       "      <td>India</td>\n",
       "      <td>14000.0</td>\n",
       "      <td>81.0</td>\n",
       "      <td>1.0</td>\n",
       "      <td>http://youtube.com/channel/UCObyBrdrtQ20BU9PxH...</td>\n",
       "    </tr>\n",
       "    <tr>\n",
       "      <th>999</th>\n",
       "      <td>1000</td>\n",
       "      <td>OneindiaHindi</td>\n",
       "      <td>Noticias y Política</td>\n",
       "      <td>11700000.0</td>\n",
       "      <td>India</td>\n",
       "      <td>2200.0</td>\n",
       "      <td>31.0</td>\n",
       "      <td>1.0</td>\n",
       "      <td>http://youtube.com/channel/UCOjgc1p2hJ4GZi6pQQ...</td>\n",
       "    </tr>\n",
       "  </tbody>\n",
       "</table>\n",
       "<p>921 rows × 9 columns</p>\n",
       "</div>"
      ],
      "text/plain": [
       "     Rank              Username           Categories  Suscribers  \\\n",
       "79     80          TheEllenShow                  NaN  38300000.0   \n",
       "80     81           DaddyYankee       Música y baile  38300000.0   \n",
       "81     82        LikeNastya_ESP                  NaN  38100000.0   \n",
       "82     83         one31official                  NaN  38100000.0   \n",
       "83     84               ABPNEWS                  NaN  38100000.0   \n",
       "..    ...                   ...                  ...         ...   \n",
       "995   996          hamzymukbang                  NaN  11700000.0   \n",
       "996   997            Adaahqueen                  NaN  11700000.0   \n",
       "997   998  LittleAngelIndonesia       Música y baile  11700000.0   \n",
       "998   999          PenMultiplex                  NaN  11700000.0   \n",
       "999  1000         OneindiaHindi  Noticias y Política  11700000.0   \n",
       "\n",
       "            Country     Visits    Likes  Comments  \\\n",
       "79   Estados Unidos    26000.0    433.0      22.0   \n",
       "80         Colombia    82800.0   6500.0     123.0   \n",
       "81          Unknown   403800.0   1800.0       0.0   \n",
       "82        Tailandia     4800.0    122.0       1.0   \n",
       "83            India     2400.0     59.0       0.0   \n",
       "..              ...        ...      ...       ...   \n",
       "995  Estados Unidos   397400.0  14000.0     124.0   \n",
       "996           India  1100000.0  92500.0     164.0   \n",
       "997         Unknown   211400.0    745.0       0.0   \n",
       "998           India    14000.0     81.0       1.0   \n",
       "999           India     2200.0     31.0       1.0   \n",
       "\n",
       "                                                 Links  \n",
       "79   http://youtube.com/channel/UCp0hYYBW6IMayGgR-W...  \n",
       "80   http://youtube.com/channel/UC9TO_oo4c_LrOiKNaY...  \n",
       "81   http://youtube.com/channel/UCpEJRZdSpdVZ8vh63T...  \n",
       "82   http://youtube.com/channel/UC8f7MkX4MFOOJ2SerX...  \n",
       "83   http://youtube.com/channel/UCRWFSbif-RFENbBrSi...  \n",
       "..                                                 ...  \n",
       "995  http://youtube.com/channel/UCPKNKldggioffXPkSm...  \n",
       "996  http://youtube.com/channel/UCk3fFpqI5kDMf__mUP...  \n",
       "997  http://youtube.com/channel/UCdrHrQf0o0TO8YDntX...  \n",
       "998  http://youtube.com/channel/UCObyBrdrtQ20BU9PxH...  \n",
       "999  http://youtube.com/channel/UCOjgc1p2hJ4GZi6pQQ...  \n",
       "\n",
       "[921 rows x 9 columns]"
      ]
     },
     "execution_count": 8,
     "metadata": {},
     "output_type": "execute_result"
    }
   ],
   "source": [
    "#Removing Outliers\n",
    "#Step 1: Calculating the interquartile range (IQR)\n",
    "Q1 = dataset['Suscribers'].quantile(0.25)\n",
    "Q3 = dataset['Suscribers'].quantile(0.75)\n",
    "IQR = Q3-Q1\n",
    "#Step 2: Defining the lower and upper bounds for outliers\n",
    "lower_bound = Q1 - 1.5*IQR\n",
    "upper_bound = Q3 + 1.5*IQR \n",
    "#Step 3: Filter outliers\n",
    "outliers_removed = dataset[(dataset['Suscribers'] > lower_bound) & (dataset['Suscribers'] < upper_bound)]\n",
    "#Step 4: Displaying filtered Dataframe without outliers\n",
    "outliers_removed"
   ]
  },
  {
   "cell_type": "code",
   "execution_count": 9,
   "id": "c70f4792",
   "metadata": {},
   "outputs": [
    {
     "data": {
      "text/html": [
       "<div>\n",
       "<style scoped>\n",
       "    .dataframe tbody tr th:only-of-type {\n",
       "        vertical-align: middle;\n",
       "    }\n",
       "\n",
       "    .dataframe tbody tr th {\n",
       "        vertical-align: top;\n",
       "    }\n",
       "\n",
       "    .dataframe thead th {\n",
       "        text-align: right;\n",
       "    }\n",
       "</style>\n",
       "<table border=\"1\" class=\"dataframe\">\n",
       "  <thead>\n",
       "    <tr style=\"text-align: right;\">\n",
       "      <th></th>\n",
       "      <th>Rank</th>\n",
       "      <th>Username</th>\n",
       "      <th>Categories</th>\n",
       "      <th>Suscribers</th>\n",
       "      <th>Country</th>\n",
       "      <th>Visits</th>\n",
       "      <th>Likes</th>\n",
       "      <th>Comments</th>\n",
       "      <th>Links</th>\n",
       "    </tr>\n",
       "  </thead>\n",
       "  <tbody>\n",
       "    <tr>\n",
       "      <th>79</th>\n",
       "      <td>80</td>\n",
       "      <td>TheEllenShow</td>\n",
       "      <td>NaN</td>\n",
       "      <td>38300000.0</td>\n",
       "      <td>Estados Unidos</td>\n",
       "      <td>26000.0</td>\n",
       "      <td>433.0</td>\n",
       "      <td>22.0</td>\n",
       "      <td>http://youtube.com/channel/UCp0hYYBW6IMayGgR-W...</td>\n",
       "    </tr>\n",
       "    <tr>\n",
       "      <th>80</th>\n",
       "      <td>81</td>\n",
       "      <td>DaddyYankee</td>\n",
       "      <td>Música y baile</td>\n",
       "      <td>38300000.0</td>\n",
       "      <td>Colombia</td>\n",
       "      <td>82800.0</td>\n",
       "      <td>6500.0</td>\n",
       "      <td>123.0</td>\n",
       "      <td>http://youtube.com/channel/UC9TO_oo4c_LrOiKNaY...</td>\n",
       "    </tr>\n",
       "    <tr>\n",
       "      <th>81</th>\n",
       "      <td>82</td>\n",
       "      <td>LikeNastya_ESP</td>\n",
       "      <td>NaN</td>\n",
       "      <td>38100000.0</td>\n",
       "      <td>Unknown</td>\n",
       "      <td>403800.0</td>\n",
       "      <td>1800.0</td>\n",
       "      <td>0.0</td>\n",
       "      <td>http://youtube.com/channel/UCpEJRZdSpdVZ8vh63T...</td>\n",
       "    </tr>\n",
       "    <tr>\n",
       "      <th>82</th>\n",
       "      <td>83</td>\n",
       "      <td>one31official</td>\n",
       "      <td>NaN</td>\n",
       "      <td>38100000.0</td>\n",
       "      <td>Tailandia</td>\n",
       "      <td>4800.0</td>\n",
       "      <td>122.0</td>\n",
       "      <td>1.0</td>\n",
       "      <td>http://youtube.com/channel/UC8f7MkX4MFOOJ2SerX...</td>\n",
       "    </tr>\n",
       "    <tr>\n",
       "      <th>83</th>\n",
       "      <td>84</td>\n",
       "      <td>ABPNEWS</td>\n",
       "      <td>NaN</td>\n",
       "      <td>38100000.0</td>\n",
       "      <td>India</td>\n",
       "      <td>2400.0</td>\n",
       "      <td>59.0</td>\n",
       "      <td>0.0</td>\n",
       "      <td>http://youtube.com/channel/UCRWFSbif-RFENbBrSi...</td>\n",
       "    </tr>\n",
       "  </tbody>\n",
       "</table>\n",
       "</div>"
      ],
      "text/plain": [
       "    Rank        Username      Categories  Suscribers         Country  \\\n",
       "79    80    TheEllenShow             NaN  38300000.0  Estados Unidos   \n",
       "80    81     DaddyYankee  Música y baile  38300000.0        Colombia   \n",
       "81    82  LikeNastya_ESP             NaN  38100000.0         Unknown   \n",
       "82    83   one31official             NaN  38100000.0       Tailandia   \n",
       "83    84         ABPNEWS             NaN  38100000.0           India   \n",
       "\n",
       "      Visits   Likes  Comments  \\\n",
       "79   26000.0   433.0      22.0   \n",
       "80   82800.0  6500.0     123.0   \n",
       "81  403800.0  1800.0       0.0   \n",
       "82    4800.0   122.0       1.0   \n",
       "83    2400.0    59.0       0.0   \n",
       "\n",
       "                                                Links  \n",
       "79  http://youtube.com/channel/UCp0hYYBW6IMayGgR-W...  \n",
       "80  http://youtube.com/channel/UC9TO_oo4c_LrOiKNaY...  \n",
       "81  http://youtube.com/channel/UCpEJRZdSpdVZ8vh63T...  \n",
       "82  http://youtube.com/channel/UC8f7MkX4MFOOJ2SerX...  \n",
       "83  http://youtube.com/channel/UCRWFSbif-RFENbBrSi...  "
      ]
     },
     "execution_count": 9,
     "metadata": {},
     "output_type": "execute_result"
    }
   ],
   "source": [
    "outliers_removed.head()"
   ]
  },
  {
   "cell_type": "code",
   "execution_count": 10,
   "id": "8ade7c5e",
   "metadata": {},
   "outputs": [
    {
     "data": {
      "text/html": [
       "<div>\n",
       "<style scoped>\n",
       "    .dataframe tbody tr th:only-of-type {\n",
       "        vertical-align: middle;\n",
       "    }\n",
       "\n",
       "    .dataframe tbody tr th {\n",
       "        vertical-align: top;\n",
       "    }\n",
       "\n",
       "    .dataframe thead th {\n",
       "        text-align: right;\n",
       "    }\n",
       "</style>\n",
       "<table border=\"1\" class=\"dataframe\">\n",
       "  <thead>\n",
       "    <tr style=\"text-align: right;\">\n",
       "      <th></th>\n",
       "      <th>Rank</th>\n",
       "      <th>Username</th>\n",
       "      <th>Categories</th>\n",
       "      <th>Suscribers</th>\n",
       "      <th>Country</th>\n",
       "      <th>Visits</th>\n",
       "      <th>Likes</th>\n",
       "      <th>Comments</th>\n",
       "      <th>Links</th>\n",
       "    </tr>\n",
       "  </thead>\n",
       "  <tbody>\n",
       "    <tr>\n",
       "      <th>80</th>\n",
       "      <td>81</td>\n",
       "      <td>DaddyYankee</td>\n",
       "      <td>Música y baile</td>\n",
       "      <td>38300000.0</td>\n",
       "      <td>Colombia</td>\n",
       "      <td>82800.0</td>\n",
       "      <td>6500.0</td>\n",
       "      <td>123.0</td>\n",
       "      <td>http://youtube.com/channel/UC9TO_oo4c_LrOiKNaY...</td>\n",
       "    </tr>\n",
       "    <tr>\n",
       "      <th>84</th>\n",
       "      <td>85</td>\n",
       "      <td>MariaClaraeJP</td>\n",
       "      <td>Películas, Animación</td>\n",
       "      <td>37700000.0</td>\n",
       "      <td>Unknown</td>\n",
       "      <td>1700000.0</td>\n",
       "      <td>10800.0</td>\n",
       "      <td>0.0</td>\n",
       "      <td>http://youtube.com/channel/UCKe6w0exI94U-RzqAy...</td>\n",
       "    </tr>\n",
       "    <tr>\n",
       "      <th>86</th>\n",
       "      <td>87</td>\n",
       "      <td>PowerKidstv</td>\n",
       "      <td>Películas, Animación</td>\n",
       "      <td>37400000.0</td>\n",
       "      <td>India</td>\n",
       "      <td>41700.0</td>\n",
       "      <td>0.0</td>\n",
       "      <td>0.0</td>\n",
       "      <td>http://youtube.com/channel/UCj-SWZSE0AmotGSQ3a...</td>\n",
       "    </tr>\n",
       "    <tr>\n",
       "      <th>89</th>\n",
       "      <td>90</td>\n",
       "      <td>SaregamaMusic</td>\n",
       "      <td>Películas</td>\n",
       "      <td>37000000.0</td>\n",
       "      <td>India</td>\n",
       "      <td>27300.0</td>\n",
       "      <td>703.0</td>\n",
       "      <td>26.0</td>\n",
       "      <td>http://youtube.com/channel/UC_A7K2dXFsTMAciGmn...</td>\n",
       "    </tr>\n",
       "    <tr>\n",
       "      <th>90</th>\n",
       "      <td>91</td>\n",
       "      <td>RicisOfficial1795</td>\n",
       "      <td>Música y baile, Películas</td>\n",
       "      <td>36900000.0</td>\n",
       "      <td>Indonesia</td>\n",
       "      <td>343800.0</td>\n",
       "      <td>27500.0</td>\n",
       "      <td>357.0</td>\n",
       "      <td>http://youtube.com/channel/UC4tS4Q_Cno5JVcIUXx...</td>\n",
       "    </tr>\n",
       "    <tr>\n",
       "      <th>...</th>\n",
       "      <td>...</td>\n",
       "      <td>...</td>\n",
       "      <td>...</td>\n",
       "      <td>...</td>\n",
       "      <td>...</td>\n",
       "      <td>...</td>\n",
       "      <td>...</td>\n",
       "      <td>...</td>\n",
       "      <td>...</td>\n",
       "    </tr>\n",
       "    <tr>\n",
       "      <th>989</th>\n",
       "      <td>990</td>\n",
       "      <td>cut</td>\n",
       "      <td>Humor</td>\n",
       "      <td>11700000.0</td>\n",
       "      <td>Estados Unidos</td>\n",
       "      <td>359000.0</td>\n",
       "      <td>8800.0</td>\n",
       "      <td>342.0</td>\n",
       "      <td>http://youtube.com/channel/UCbaGn5VkOVlcRgIWAH...</td>\n",
       "    </tr>\n",
       "    <tr>\n",
       "      <th>990</th>\n",
       "      <td>991</td>\n",
       "      <td>JoeHattab</td>\n",
       "      <td>Películas</td>\n",
       "      <td>11700000.0</td>\n",
       "      <td>Somalia</td>\n",
       "      <td>1900000.0</td>\n",
       "      <td>98500.0</td>\n",
       "      <td>2900.0</td>\n",
       "      <td>http://youtube.com/channel/UCe6eisvsctSPvBhmin...</td>\n",
       "    </tr>\n",
       "    <tr>\n",
       "      <th>991</th>\n",
       "      <td>992</td>\n",
       "      <td>BeAmazed</td>\n",
       "      <td>Educación</td>\n",
       "      <td>11700000.0</td>\n",
       "      <td>Estados Unidos</td>\n",
       "      <td>477800.0</td>\n",
       "      <td>9900.0</td>\n",
       "      <td>556.0</td>\n",
       "      <td>http://youtube.com/channel/UCkQO3QsgTpNTsOw6uj...</td>\n",
       "    </tr>\n",
       "    <tr>\n",
       "      <th>997</th>\n",
       "      <td>998</td>\n",
       "      <td>LittleAngelIndonesia</td>\n",
       "      <td>Música y baile</td>\n",
       "      <td>11700000.0</td>\n",
       "      <td>Unknown</td>\n",
       "      <td>211400.0</td>\n",
       "      <td>745.0</td>\n",
       "      <td>0.0</td>\n",
       "      <td>http://youtube.com/channel/UCdrHrQf0o0TO8YDntX...</td>\n",
       "    </tr>\n",
       "    <tr>\n",
       "      <th>999</th>\n",
       "      <td>1000</td>\n",
       "      <td>OneindiaHindi</td>\n",
       "      <td>Noticias y Política</td>\n",
       "      <td>11700000.0</td>\n",
       "      <td>India</td>\n",
       "      <td>2200.0</td>\n",
       "      <td>31.0</td>\n",
       "      <td>1.0</td>\n",
       "      <td>http://youtube.com/channel/UCOjgc1p2hJ4GZi6pQQ...</td>\n",
       "    </tr>\n",
       "  </tbody>\n",
       "</table>\n",
       "<p>633 rows × 9 columns</p>\n",
       "</div>"
      ],
      "text/plain": [
       "     Rank              Username                 Categories  Suscribers  \\\n",
       "80     81           DaddyYankee             Música y baile  38300000.0   \n",
       "84     85         MariaClaraeJP       Películas, Animación  37700000.0   \n",
       "86     87           PowerKidstv       Películas, Animación  37400000.0   \n",
       "89     90         SaregamaMusic                  Películas  37000000.0   \n",
       "90     91     RicisOfficial1795  Música y baile, Películas  36900000.0   \n",
       "..    ...                   ...                        ...         ...   \n",
       "989   990                   cut                      Humor  11700000.0   \n",
       "990   991             JoeHattab                  Películas  11700000.0   \n",
       "991   992              BeAmazed                  Educación  11700000.0   \n",
       "997   998  LittleAngelIndonesia             Música y baile  11700000.0   \n",
       "999  1000         OneindiaHindi        Noticias y Política  11700000.0   \n",
       "\n",
       "            Country     Visits    Likes  Comments  \\\n",
       "80         Colombia    82800.0   6500.0     123.0   \n",
       "84          Unknown  1700000.0  10800.0       0.0   \n",
       "86            India    41700.0      0.0       0.0   \n",
       "89            India    27300.0    703.0      26.0   \n",
       "90        Indonesia   343800.0  27500.0     357.0   \n",
       "..              ...        ...      ...       ...   \n",
       "989  Estados Unidos   359000.0   8800.0     342.0   \n",
       "990         Somalia  1900000.0  98500.0    2900.0   \n",
       "991  Estados Unidos   477800.0   9900.0     556.0   \n",
       "997         Unknown   211400.0    745.0       0.0   \n",
       "999           India     2200.0     31.0       1.0   \n",
       "\n",
       "                                                 Links  \n",
       "80   http://youtube.com/channel/UC9TO_oo4c_LrOiKNaY...  \n",
       "84   http://youtube.com/channel/UCKe6w0exI94U-RzqAy...  \n",
       "86   http://youtube.com/channel/UCj-SWZSE0AmotGSQ3a...  \n",
       "89   http://youtube.com/channel/UC_A7K2dXFsTMAciGmn...  \n",
       "90   http://youtube.com/channel/UC4tS4Q_Cno5JVcIUXx...  \n",
       "..                                                 ...  \n",
       "989  http://youtube.com/channel/UCbaGn5VkOVlcRgIWAH...  \n",
       "990  http://youtube.com/channel/UCe6eisvsctSPvBhmin...  \n",
       "991  http://youtube.com/channel/UCkQO3QsgTpNTsOw6uj...  \n",
       "997  http://youtube.com/channel/UCdrHrQf0o0TO8YDntX...  \n",
       "999  http://youtube.com/channel/UCOjgc1p2hJ4GZi6pQQ...  \n",
       "\n",
       "[633 rows x 9 columns]"
      ]
     },
     "execution_count": 10,
     "metadata": {},
     "output_type": "execute_result"
    }
   ],
   "source": [
    "#removing null values\n",
    "df_cleaned = outliers_removed.dropna()\n",
    "df_cleaned"
   ]
  },
  {
   "cell_type": "code",
   "execution_count": 11,
   "id": "5d97a5e0",
   "metadata": {},
   "outputs": [],
   "source": [
    "youtubedata = df_cleaned"
   ]
  },
  {
   "cell_type": "code",
   "execution_count": 12,
   "id": "7cd1d574",
   "metadata": {},
   "outputs": [
    {
     "data": {
      "text/plain": [
       "(633, 9)"
      ]
     },
     "execution_count": 12,
     "metadata": {},
     "output_type": "execute_result"
    }
   ],
   "source": [
    "youtubedata.shape"
   ]
  },
  {
   "cell_type": "code",
   "execution_count": 13,
   "id": "8fbe4d83",
   "metadata": {},
   "outputs": [
    {
     "data": {
      "text/plain": [
       "5697"
      ]
     },
     "execution_count": 13,
     "metadata": {},
     "output_type": "execute_result"
    }
   ],
   "source": [
    "youtubedata.size"
   ]
  },
  {
   "cell_type": "code",
   "execution_count": 14,
   "id": "6152151b",
   "metadata": {},
   "outputs": [
    {
     "data": {
      "text/plain": [
       "Index(['Rank', 'Username', 'Categories', 'Suscribers', 'Country', 'Visits',\n",
       "       'Likes', 'Comments', 'Links'],\n",
       "      dtype='object')"
      ]
     },
     "execution_count": 14,
     "metadata": {},
     "output_type": "execute_result"
    }
   ],
   "source": [
    "youtubedata.columns"
   ]
  },
  {
   "cell_type": "code",
   "execution_count": 15,
   "id": "bd2c7141",
   "metadata": {},
   "outputs": [
    {
     "data": {
      "text/html": [
       "<div>\n",
       "<style scoped>\n",
       "    .dataframe tbody tr th:only-of-type {\n",
       "        vertical-align: middle;\n",
       "    }\n",
       "\n",
       "    .dataframe tbody tr th {\n",
       "        vertical-align: top;\n",
       "    }\n",
       "\n",
       "    .dataframe thead th {\n",
       "        text-align: right;\n",
       "    }\n",
       "</style>\n",
       "<table border=\"1\" class=\"dataframe\">\n",
       "  <thead>\n",
       "    <tr style=\"text-align: right;\">\n",
       "      <th></th>\n",
       "      <th>Rank</th>\n",
       "      <th>Suscribers</th>\n",
       "      <th>Visits</th>\n",
       "      <th>Likes</th>\n",
       "      <th>Comments</th>\n",
       "    </tr>\n",
       "  </thead>\n",
       "  <tbody>\n",
       "    <tr>\n",
       "      <th>count</th>\n",
       "      <td>633.000000</td>\n",
       "      <td>6.330000e+02</td>\n",
       "      <td>6.330000e+02</td>\n",
       "      <td>6.330000e+02</td>\n",
       "      <td>633.000000</td>\n",
       "    </tr>\n",
       "    <tr>\n",
       "      <th>mean</th>\n",
       "      <td>539.333333</td>\n",
       "      <td>1.829921e+07</td>\n",
       "      <td>1.027089e+06</td>\n",
       "      <td>4.633663e+04</td>\n",
       "      <td>1538.298578</td>\n",
       "    </tr>\n",
       "    <tr>\n",
       "      <th>std</th>\n",
       "      <td>263.771024</td>\n",
       "      <td>6.178550e+06</td>\n",
       "      <td>4.268851e+06</td>\n",
       "      <td>2.305840e+05</td>\n",
       "      <td>8222.198243</td>\n",
       "    </tr>\n",
       "    <tr>\n",
       "      <th>min</th>\n",
       "      <td>81.000000</td>\n",
       "      <td>1.170000e+07</td>\n",
       "      <td>0.000000e+00</td>\n",
       "      <td>0.000000e+00</td>\n",
       "      <td>0.000000</td>\n",
       "    </tr>\n",
       "    <tr>\n",
       "      <th>25%</th>\n",
       "      <td>315.000000</td>\n",
       "      <td>1.360000e+07</td>\n",
       "      <td>3.430000e+04</td>\n",
       "      <td>5.350000e+02</td>\n",
       "      <td>3.000000</td>\n",
       "    </tr>\n",
       "    <tr>\n",
       "      <th>50%</th>\n",
       "      <td>535.000000</td>\n",
       "      <td>1.620000e+07</td>\n",
       "      <td>1.551000e+05</td>\n",
       "      <td>3.300000e+03</td>\n",
       "      <td>86.000000</td>\n",
       "    </tr>\n",
       "    <tr>\n",
       "      <th>75%</th>\n",
       "      <td>766.000000</td>\n",
       "      <td>2.110000e+07</td>\n",
       "      <td>7.683000e+05</td>\n",
       "      <td>2.270000e+04</td>\n",
       "      <td>505.000000</td>\n",
       "    </tr>\n",
       "    <tr>\n",
       "      <th>max</th>\n",
       "      <td>1000.000000</td>\n",
       "      <td>3.830000e+07</td>\n",
       "      <td>8.310000e+07</td>\n",
       "      <td>5.000000e+06</td>\n",
       "      <td>154000.000000</td>\n",
       "    </tr>\n",
       "  </tbody>\n",
       "</table>\n",
       "</div>"
      ],
      "text/plain": [
       "              Rank    Suscribers        Visits         Likes       Comments\n",
       "count   633.000000  6.330000e+02  6.330000e+02  6.330000e+02     633.000000\n",
       "mean    539.333333  1.829921e+07  1.027089e+06  4.633663e+04    1538.298578\n",
       "std     263.771024  6.178550e+06  4.268851e+06  2.305840e+05    8222.198243\n",
       "min      81.000000  1.170000e+07  0.000000e+00  0.000000e+00       0.000000\n",
       "25%     315.000000  1.360000e+07  3.430000e+04  5.350000e+02       3.000000\n",
       "50%     535.000000  1.620000e+07  1.551000e+05  3.300000e+03      86.000000\n",
       "75%     766.000000  2.110000e+07  7.683000e+05  2.270000e+04     505.000000\n",
       "max    1000.000000  3.830000e+07  8.310000e+07  5.000000e+06  154000.000000"
      ]
     },
     "execution_count": 15,
     "metadata": {},
     "output_type": "execute_result"
    }
   ],
   "source": [
    "youtubedata.describe() "
   ]
  },
  {
   "cell_type": "code",
   "execution_count": 16,
   "id": "24d6cdcd",
   "metadata": {},
   "outputs": [
    {
     "name": "stdout",
     "output_type": "stream",
     "text": [
      "<class 'pandas.core.frame.DataFrame'>\n",
      "Int64Index: 633 entries, 80 to 999\n",
      "Data columns (total 9 columns):\n",
      " #   Column      Non-Null Count  Dtype  \n",
      "---  ------      --------------  -----  \n",
      " 0   Rank        633 non-null    int64  \n",
      " 1   Username    633 non-null    object \n",
      " 2   Categories  633 non-null    object \n",
      " 3   Suscribers  633 non-null    float64\n",
      " 4   Country     633 non-null    object \n",
      " 5   Visits      633 non-null    float64\n",
      " 6   Likes       633 non-null    float64\n",
      " 7   Comments    633 non-null    float64\n",
      " 8   Links       633 non-null    object \n",
      "dtypes: float64(4), int64(1), object(4)\n",
      "memory usage: 49.5+ KB\n"
     ]
    },
    {
     "data": {
      "text/plain": [
       "Rank            int64\n",
       "Username       object\n",
       "Categories     object\n",
       "Suscribers    float64\n",
       "Country        object\n",
       "Visits        float64\n",
       "Likes         float64\n",
       "Comments      float64\n",
       "Links          object\n",
       "dtype: object"
      ]
     },
     "execution_count": 16,
     "metadata": {},
     "output_type": "execute_result"
    }
   ],
   "source": [
    "youtubedata.info() \n",
    "youtubedata.dtypes "
   ]
  },
  {
   "cell_type": "code",
   "execution_count": 17,
   "id": "e12cc3a2",
   "metadata": {},
   "outputs": [
    {
     "data": {
      "text/html": [
       "<div>\n",
       "<style scoped>\n",
       "    .dataframe tbody tr th:only-of-type {\n",
       "        vertical-align: middle;\n",
       "    }\n",
       "\n",
       "    .dataframe tbody tr th {\n",
       "        vertical-align: top;\n",
       "    }\n",
       "\n",
       "    .dataframe thead th {\n",
       "        text-align: right;\n",
       "    }\n",
       "</style>\n",
       "<table border=\"1\" class=\"dataframe\">\n",
       "  <thead>\n",
       "    <tr style=\"text-align: right;\">\n",
       "      <th></th>\n",
       "      <th>Rank</th>\n",
       "      <th>Username</th>\n",
       "      <th>Categories</th>\n",
       "      <th>Suscribers</th>\n",
       "      <th>Country</th>\n",
       "      <th>Visits</th>\n",
       "      <th>Likes</th>\n",
       "      <th>Comments</th>\n",
       "      <th>Links</th>\n",
       "    </tr>\n",
       "  </thead>\n",
       "  <tbody>\n",
       "    <tr>\n",
       "      <th>80</th>\n",
       "      <td>81</td>\n",
       "      <td>DaddyYankee</td>\n",
       "      <td>Música y baile</td>\n",
       "      <td>38300000.0</td>\n",
       "      <td>Colombia</td>\n",
       "      <td>82800.0</td>\n",
       "      <td>6500.0</td>\n",
       "      <td>123.0</td>\n",
       "      <td>http://youtube.com/channel/UC9TO_oo4c_LrOiKNaY...</td>\n",
       "    </tr>\n",
       "    <tr>\n",
       "      <th>84</th>\n",
       "      <td>85</td>\n",
       "      <td>MariaClaraeJP</td>\n",
       "      <td>Películas, Animación</td>\n",
       "      <td>37700000.0</td>\n",
       "      <td>Unknown</td>\n",
       "      <td>1700000.0</td>\n",
       "      <td>10800.0</td>\n",
       "      <td>0.0</td>\n",
       "      <td>http://youtube.com/channel/UCKe6w0exI94U-RzqAy...</td>\n",
       "    </tr>\n",
       "    <tr>\n",
       "      <th>86</th>\n",
       "      <td>87</td>\n",
       "      <td>PowerKidstv</td>\n",
       "      <td>Películas, Animación</td>\n",
       "      <td>37400000.0</td>\n",
       "      <td>India</td>\n",
       "      <td>41700.0</td>\n",
       "      <td>0.0</td>\n",
       "      <td>0.0</td>\n",
       "      <td>http://youtube.com/channel/UCj-SWZSE0AmotGSQ3a...</td>\n",
       "    </tr>\n",
       "    <tr>\n",
       "      <th>89</th>\n",
       "      <td>90</td>\n",
       "      <td>SaregamaMusic</td>\n",
       "      <td>Películas</td>\n",
       "      <td>37000000.0</td>\n",
       "      <td>India</td>\n",
       "      <td>27300.0</td>\n",
       "      <td>703.0</td>\n",
       "      <td>26.0</td>\n",
       "      <td>http://youtube.com/channel/UC_A7K2dXFsTMAciGmn...</td>\n",
       "    </tr>\n",
       "    <tr>\n",
       "      <th>90</th>\n",
       "      <td>91</td>\n",
       "      <td>RicisOfficial1795</td>\n",
       "      <td>Música y baile, Películas</td>\n",
       "      <td>36900000.0</td>\n",
       "      <td>Indonesia</td>\n",
       "      <td>343800.0</td>\n",
       "      <td>27500.0</td>\n",
       "      <td>357.0</td>\n",
       "      <td>http://youtube.com/channel/UC4tS4Q_Cno5JVcIUXx...</td>\n",
       "    </tr>\n",
       "  </tbody>\n",
       "</table>\n",
       "</div>"
      ],
      "text/plain": [
       "    Rank           Username                 Categories  Suscribers    Country  \\\n",
       "80    81        DaddyYankee             Música y baile  38300000.0   Colombia   \n",
       "84    85      MariaClaraeJP       Películas, Animación  37700000.0    Unknown   \n",
       "86    87        PowerKidstv       Películas, Animación  37400000.0      India   \n",
       "89    90      SaregamaMusic                  Películas  37000000.0      India   \n",
       "90    91  RicisOfficial1795  Música y baile, Películas  36900000.0  Indonesia   \n",
       "\n",
       "       Visits    Likes  Comments  \\\n",
       "80    82800.0   6500.0     123.0   \n",
       "84  1700000.0  10800.0       0.0   \n",
       "86    41700.0      0.0       0.0   \n",
       "89    27300.0    703.0      26.0   \n",
       "90   343800.0  27500.0     357.0   \n",
       "\n",
       "                                                Links  \n",
       "80  http://youtube.com/channel/UC9TO_oo4c_LrOiKNaY...  \n",
       "84  http://youtube.com/channel/UCKe6w0exI94U-RzqAy...  \n",
       "86  http://youtube.com/channel/UCj-SWZSE0AmotGSQ3a...  \n",
       "89  http://youtube.com/channel/UC_A7K2dXFsTMAciGmn...  \n",
       "90  http://youtube.com/channel/UC4tS4Q_Cno5JVcIUXx...  "
      ]
     },
     "execution_count": 17,
     "metadata": {},
     "output_type": "execute_result"
    }
   ],
   "source": [
    "youtubedata.head()"
   ]
  },
  {
   "cell_type": "code",
   "execution_count": 18,
   "id": "d008590d",
   "metadata": {},
   "outputs": [
    {
     "name": "stdout",
     "output_type": "stream",
     "text": [
      "Rank          0\n",
      "Username      0\n",
      "Categories    0\n",
      "Suscribers    0\n",
      "Country       0\n",
      "Visits        0\n",
      "Likes         0\n",
      "Comments      0\n",
      "Links         0\n",
      "dtype: int64\n"
     ]
    }
   ],
   "source": [
    "print(youtubedata.isnull().sum())  "
   ]
  },
  {
   "cell_type": "markdown",
   "id": "5b4b2d7d",
   "metadata": {},
   "source": [
    "# 2. Trend Analysis"
   ]
  },
  {
   "cell_type": "code",
   "execution_count": 20,
   "id": "3727082b",
   "metadata": {
    "scrolled": false
   },
   "outputs": [
    {
     "data": {
      "text/plain": [
       "Música y baile               132\n",
       "Películas, Animación          53\n",
       "Música y baile, Películas     40\n",
       "Vlogs diarios                 36\n",
       "Noticias y Política           35\n",
       "Animación, Videojuegos        34\n",
       "Películas, Humor              32\n",
       "Animación, Humor              26\n",
       "Animación, Juguetes           24\n",
       "Películas                     23\n",
       "Name: Categories, dtype: int64"
      ]
     },
     "execution_count": 20,
     "metadata": {},
     "output_type": "execute_result"
    }
   ],
   "source": [
    "#Here I want to determine which category generally is most popular\n",
    "category_counts = youtubedata['Categories'].value_counts().nlargest(10) #Exploring unique values\n",
    "category_counts"
   ]
  },
  {
   "cell_type": "markdown",
   "id": "2245e5f3",
   "metadata": {},
   "source": [
    "### From this, looking at the top ten most popular categories, we can observe that generally 'Música y baile' has the most engagements. That this particular type of content seems to attract a lot of people."
   ]
  },
  {
   "cell_type": "code",
   "execution_count": 21,
   "id": "d7fc0b14",
   "metadata": {},
   "outputs": [
    {
     "data": {
      "image/png": "[encoded data removed]",
      "text/plain": [
       "<Figure size 720x432 with 1 Axes>"
      ]
     },
     "metadata": {
      "needs_background": "light"
     },
     "output_type": "display_data"
    }
   ],
   "source": [
    "#Plotting the distributions of categories\n",
    "plt.figure(figsize=(10,6))\n",
    "sns.countplot(y='Categories', data=youtubedata, order=youtubedata['Categories'].value_counts().nlargest(10).index)\n",
    "plt.title('Distribution of YouTube Streamer Categories')\n",
    "plt.xlabel('Number of Streamers')\n",
    "plt.ylabel('Category')\n",
    "plt.show()"
   ]
  },
  {
   "cell_type": "code",
   "execution_count": 22,
   "id": "99cd318f",
   "metadata": {},
   "outputs": [
    {
     "data": {
      "image/png": "[encoded data removed]",
      "text/plain": [
       "<Figure size 576x432 with 2 Axes>"
      ]
     },
     "metadata": {
      "needs_background": "light"
     },
     "output_type": "display_data"
    }
   ],
   "source": [
    "# Select the columns of interest (Subscribers, Likes, Comments) for correlation analysis\n",
    "columns_of_interest = ['Suscribers', 'Likes', 'Comments']\n",
    "selected_columns = youtubedata[columns_of_interest]\n",
    "\n",
    "# Compute the correlation matrix\n",
    "correlation_matrix = selected_columns.corr()\n",
    "\n",
    "# Plotting the correlation heatmap\n",
    "plt.figure(figsize=(8, 6))\n",
    "heatmap = sns.heatmap(correlation_matrix, annot=True, cmap='coolwarm', fmt='.2f', annot_kws={\"size\": 12})\n",
    "plt.title('Correlation Heatmap of Subscribers, Likes, and Comments')\n",
    "plt.show()"
   ]
  },
  {
   "cell_type": "markdown",
   "id": "e8b30dd8",
   "metadata": {},
   "source": [
    "### From this we can see that there is a weak correlation between Suscribers and like/comments"
   ]
  },
  {
   "cell_type": "markdown",
   "id": "acf37b38",
   "metadata": {},
   "source": [
    "# 3. Audience Study"
   ]
  },
  {
   "cell_type": "code",
   "execution_count": 23,
   "id": "fee5d644",
   "metadata": {
    "scrolled": false
   },
   "outputs": [
    {
     "data": {
      "text/html": [
       "<div>\n",
       "<style scoped>\n",
       "    .dataframe tbody tr th:only-of-type {\n",
       "        vertical-align: middle;\n",
       "    }\n",
       "\n",
       "    .dataframe tbody tr th {\n",
       "        vertical-align: top;\n",
       "    }\n",
       "\n",
       "    .dataframe thead th {\n",
       "        text-align: right;\n",
       "    }\n",
       "</style>\n",
       "<table border=\"1\" class=\"dataframe\">\n",
       "  <thead>\n",
       "    <tr style=\"text-align: right;\">\n",
       "      <th></th>\n",
       "      <th>Rank</th>\n",
       "      <th>Username</th>\n",
       "      <th>Categories</th>\n",
       "      <th>Suscribers</th>\n",
       "      <th>Country</th>\n",
       "      <th>Visits</th>\n",
       "      <th>Likes</th>\n",
       "      <th>Comments</th>\n",
       "      <th>Links</th>\n",
       "    </tr>\n",
       "  </thead>\n",
       "  <tbody>\n",
       "    <tr>\n",
       "      <th>80</th>\n",
       "      <td>81</td>\n",
       "      <td>DaddyYankee</td>\n",
       "      <td>Música y baile</td>\n",
       "      <td>38300000.0</td>\n",
       "      <td>Colombia</td>\n",
       "      <td>82800.0</td>\n",
       "      <td>6500.0</td>\n",
       "      <td>123.0</td>\n",
       "      <td>http://youtube.com/channel/UC9TO_oo4c_LrOiKNaY...</td>\n",
       "    </tr>\n",
       "    <tr>\n",
       "      <th>84</th>\n",
       "      <td>85</td>\n",
       "      <td>MariaClaraeJP</td>\n",
       "      <td>Películas, Animación</td>\n",
       "      <td>37700000.0</td>\n",
       "      <td>Unknown</td>\n",
       "      <td>1700000.0</td>\n",
       "      <td>10800.0</td>\n",
       "      <td>0.0</td>\n",
       "      <td>http://youtube.com/channel/UCKe6w0exI94U-RzqAy...</td>\n",
       "    </tr>\n",
       "    <tr>\n",
       "      <th>86</th>\n",
       "      <td>87</td>\n",
       "      <td>PowerKidstv</td>\n",
       "      <td>Películas, Animación</td>\n",
       "      <td>37400000.0</td>\n",
       "      <td>India</td>\n",
       "      <td>41700.0</td>\n",
       "      <td>0.0</td>\n",
       "      <td>0.0</td>\n",
       "      <td>http://youtube.com/channel/UCj-SWZSE0AmotGSQ3a...</td>\n",
       "    </tr>\n",
       "    <tr>\n",
       "      <th>89</th>\n",
       "      <td>90</td>\n",
       "      <td>SaregamaMusic</td>\n",
       "      <td>Películas</td>\n",
       "      <td>37000000.0</td>\n",
       "      <td>India</td>\n",
       "      <td>27300.0</td>\n",
       "      <td>703.0</td>\n",
       "      <td>26.0</td>\n",
       "      <td>http://youtube.com/channel/UC_A7K2dXFsTMAciGmn...</td>\n",
       "    </tr>\n",
       "    <tr>\n",
       "      <th>90</th>\n",
       "      <td>91</td>\n",
       "      <td>RicisOfficial1795</td>\n",
       "      <td>Música y baile, Películas</td>\n",
       "      <td>36900000.0</td>\n",
       "      <td>Indonesia</td>\n",
       "      <td>343800.0</td>\n",
       "      <td>27500.0</td>\n",
       "      <td>357.0</td>\n",
       "      <td>http://youtube.com/channel/UC4tS4Q_Cno5JVcIUXx...</td>\n",
       "    </tr>\n",
       "  </tbody>\n",
       "</table>\n",
       "</div>"
      ],
      "text/plain": [
       "    Rank           Username                 Categories  Suscribers    Country  \\\n",
       "80    81        DaddyYankee             Música y baile  38300000.0   Colombia   \n",
       "84    85      MariaClaraeJP       Películas, Animación  37700000.0    Unknown   \n",
       "86    87        PowerKidstv       Películas, Animación  37400000.0      India   \n",
       "89    90      SaregamaMusic                  Películas  37000000.0      India   \n",
       "90    91  RicisOfficial1795  Música y baile, Películas  36900000.0  Indonesia   \n",
       "\n",
       "       Visits    Likes  Comments  \\\n",
       "80    82800.0   6500.0     123.0   \n",
       "84  1700000.0  10800.0       0.0   \n",
       "86    41700.0      0.0       0.0   \n",
       "89    27300.0    703.0      26.0   \n",
       "90   343800.0  27500.0     357.0   \n",
       "\n",
       "                                                Links  \n",
       "80  http://youtube.com/channel/UC9TO_oo4c_LrOiKNaY...  \n",
       "84  http://youtube.com/channel/UCKe6w0exI94U-RzqAy...  \n",
       "86  http://youtube.com/channel/UCj-SWZSE0AmotGSQ3a...  \n",
       "89  http://youtube.com/channel/UC_A7K2dXFsTMAciGmn...  \n",
       "90  http://youtube.com/channel/UC4tS4Q_Cno5JVcIUXx...  "
      ]
     },
     "execution_count": 23,
     "metadata": {},
     "output_type": "execute_result"
    }
   ],
   "source": [
    "youtubedata.head()"
   ]
  },
  {
   "cell_type": "code",
   "execution_count": 24,
   "id": "cee8a0dc",
   "metadata": {},
   "outputs": [
    {
     "data": {
      "text/plain": [
       "array(['Colombia', 'Unknown', 'India', 'Indonesia', 'Estados Unidos',\n",
       "       'México', 'Iraq', 'Brasil', 'Filipinas', 'Argentina', 'Turquía',\n",
       "       'Rusia', 'Tailandia', 'Arabia Saudita', 'Bangladesh',\n",
       "       'Reino Unido', 'Perú', 'España', 'Egipto', 'Pakistán', 'Jordania',\n",
       "       'Francia', 'Marruecos', 'Singapur', 'Argelia', 'Japón', 'Somalia'],\n",
       "      dtype=object)"
      ]
     },
     "execution_count": 24,
     "metadata": {},
     "output_type": "execute_result"
    }
   ],
   "source": [
    "youtubedata['Country'].unique()"
   ]
  },
  {
   "cell_type": "code",
   "execution_count": 25,
   "id": "757f30bf",
   "metadata": {},
   "outputs": [
    {
     "data": {
      "text/plain": [
       "array([30, 18, 13, 10,  7,  4,  4,  3,  1,  1], dtype=int64)"
      ]
     },
     "execution_count": 25,
     "metadata": {},
     "output_type": "execute_result"
    }
   ],
   "source": [
    "y = youtubedata['Categories'].loc[dataset['Country'] == 'India'].value_counts().nlargest(10).values\n",
    "y"
   ]
  },
  {
   "cell_type": "code",
   "execution_count": 26,
   "id": "d5ad2995",
   "metadata": {},
   "outputs": [
    {
     "data": {
      "text/plain": [
       "Index(['Música y baile', 'Noticias y Política', 'Vlogs diarios', 'Educación',\n",
       "       'Películas, Humor', 'Películas, Animación', 'Películas', 'Humor',\n",
       "       'Películas, Videojuegos', 'Música y baile, Humor'],\n",
       "      dtype='object')"
      ]
     },
     "execution_count": 26,
     "metadata": {},
     "output_type": "execute_result"
    }
   ],
   "source": [
    "x = youtubedata['Categories'].loc[dataset['Country'] == 'India'].value_counts().nlargest(10).keys()\n",
    "x"
   ]
  },
  {
   "cell_type": "code",
   "execution_count": 46,
   "id": "18b81d95",
   "metadata": {
    "scrolled": true
   },
   "outputs": [
    {
     "data": {
      "image/png": "[encoded data removed]",
      "text/plain": [
       "<Figure size 432x288 with 1 Axes>"
      ]
     },
     "metadata": {
      "needs_background": "light"
     },
     "output_type": "display_data"
    }
   ],
   "source": [
    "youtubedata['Categories'].loc[dataset['Country'] == 'Rusia'].value_counts().nlargest(10).plot(kind='bar',rot=90,color = 'red')\n",
    "plt.show()"
   ]
  },
  {
   "cell_type": "markdown",
   "id": "b9948847",
   "metadata": {},
   "source": [
    "### This plot shows engagements for the top 10 categories in India where 'Música y baile' still has the highest number of engagements."
   ]
  },
  {
   "cell_type": "markdown",
   "id": "84ce313c",
   "metadata": {},
   "source": [
    "# 4. Performance Metrics"
   ]
  },
  {
   "cell_type": "code",
   "execution_count": 29,
   "id": "7bed9174",
   "metadata": {
    "scrolled": true
   },
   "outputs": [
    {
     "name": "stdout",
     "output_type": "stream",
     "text": [
      "Average Subscribers: 18299210.11058452\n",
      "Average visits: 1027088.6255924171\n",
      "Average likes: 46336.62559241706\n",
      "Average Comments: 1538.2985781990521\n"
     ]
    }
   ],
   "source": [
    "# Calculating average metrics: subscribers, visits, likes and comments\n",
    "average_subscribers = youtubedata['Suscribers'].mean()\n",
    "average_visits = youtubedata['Visits'].mean()\n",
    "average_likes = youtubedata['Likes'].mean()\n",
    "average_comments = youtubedata['Comments'].mean()\n",
    "print('Average Subscribers:',average_subscribers)\n",
    "print('Average visits:',average_visits)\n",
    "print('Average likes:',average_likes)\n",
    "print('Average Comments:',average_comments)"
   ]
  },
  {
   "cell_type": "code",
   "execution_count": 30,
   "id": "fb250b13",
   "metadata": {
    "scrolled": true
   },
   "outputs": [
    {
     "data": {
      "image/png": "[encoded data removed]",
      "text/plain": [
       "<Figure size 720x432 with 1 Axes>"
      ]
     },
     "metadata": {
      "needs_background": "light"
     },
     "output_type": "display_data"
    }
   ],
   "source": [
    "metrics =['Suscribers','Visits','Likes','Comments']\n",
    "average_values = [average_subscribers, average_visits, average_likes, average_comments]\n",
    "colors = ['skyblue', 'lightgreen', 'salmon', 'gold']\n",
    "plt.figure(figsize=(10,6))\n",
    "plt.bar(metrics, average_values, color=colors)\n",
    "plt.title('Average Metrics Among Top Streamers')\n",
    "plt.xlabel('Metrics')\n",
    "plt.ylabel('Average Values')\n",
    "plt.show()"
   ]
  },
  {
   "cell_type": "markdown",
   "id": "103d5304",
   "metadata": {},
   "source": [
    "## Brief Explanantion\n",
    "This code snippet computes the average values for different metrics (subscribers, visits, likes, comments) among the top streamers and visualizes these averages using a bar plot. Here's a breakdown:\n",
    "1. Calculating Average Metrics:\n",
    "\n",
    "The code calculates the mean values (averages) for subscribers, visits, likes, and comments by using the mean() function on the respective columns in the youtubedata DataFrame.\n",
    "2. Printing Average Metrics:\n",
    "\n",
    "It prints out the average values calculated for subscribers, visits, likes, and comments using print() statements.\n",
    "3. Creating a Bar Plot for Average Metrics:\n",
    "\n",
    "The code then prepares data for visualization by creating lists containing metric names (metrics) and their corresponding average values (average_values). It also defines colors for each metric.\n",
    "\n",
    "Using plt.bar(), it generates a bar plot with metrics on the x-axis and their average values on the y-axis. Each metric's average value is represented by a colored bar.\n",
    "4. Interpreting Patterns or Anomalies:\n",
    "\n",
    "By observing the bar plot, you can analyze patterns or anomalies in these metrics among the top streamers. For example:\n",
    "\n",
    "Patterns: Consistent or expected values across metrics may indicate stable performance or behavior among top streamers.\n",
    "Anomalies: Unusual spikes or drops in specific metrics compared to others might signify irregular behavior or outliers among certain streamers.\n",
    "Additionally, comparing these metrics across different time periods or against industry benchmarks can help in identifying deviations or trends.\n",
    "\n",
    "This visualization allows for a quick overview and comparison of the average performance metrics among top streamers, aiding in identifying any significant deviations or noteworthy patterns across these metrics."
   ]
  },
  {
   "cell_type": "markdown",
   "id": "fb7d516b",
   "metadata": {},
   "source": [
    "# 5. Content Categories"
   ]
  },
  {
   "cell_type": "code",
   "execution_count": 31,
   "id": "847717aa",
   "metadata": {},
   "outputs": [
    {
     "name": "stdout",
     "output_type": "stream",
     "text": [
      "Top Categories by Number of Streamers:\n"
     ]
    },
    {
     "data": {
      "text/plain": [
       "Música y baile               132\n",
       "Películas, Animación          53\n",
       "Música y baile, Películas     40\n",
       "Vlogs diarios                 36\n",
       "Noticias y Política           35\n",
       "Animación, Videojuegos        34\n",
       "Películas, Humor              32\n",
       "Animación, Humor              26\n",
       "Animación, Juguetes           24\n",
       "Películas                     23\n",
       "Name: Categories, dtype: int64"
      ]
     },
     "execution_count": 31,
     "metadata": {},
     "output_type": "execute_result"
    }
   ],
   "source": [
    "#1.)Analyzing the Distribution of Content Categories\n",
    "#Counting the number of streamers in each content category\n",
    "streamers_by_category = youtubedata['Categories'].value_counts()\n",
    "#Displaying the top categories with the most streamers\n",
    "top_categories = streamers_by_category.head(10)\n",
    "print(\"Top Categories by Number of Streamers:\")\n",
    "top_categories"
   ]
  },
  {
   "cell_type": "code",
   "execution_count": 32,
   "id": "848f8f83",
   "metadata": {},
   "outputs": [
    {
     "data": {
      "image/png": "[encoded data removed]",
      "text/plain": [
       "<Figure size 720x432 with 1 Axes>"
      ]
     },
     "metadata": {
      "needs_background": "light"
     },
     "output_type": "display_data"
    }
   ],
   "source": [
    "#2.)Visualizing the distribution of streamers by content category\n",
    "# Plotting the distribution of streamers by content category (top 10 categories)\n",
    "plt.figure(figsize=(10, 6))\n",
    "top_categories.plot(kind='bar', color='skyblue')\n",
    "plt.title('Top Categories by Number of Streamers')\n",
    "plt.xlabel('Content Category')\n",
    "plt.ylabel('Number of Streamers')\n",
    "plt.xticks(rotation=45)\n",
    "plt.show()\n"
   ]
  },
  {
   "cell_type": "code",
   "execution_count": 33,
   "id": "349bf808",
   "metadata": {},
   "outputs": [],
   "source": [
    "#Identifying Categories with Exceptional performance metrics\n",
    "#first of all calculating average metrics for each category\n",
    "average_metrics_by_category = youtubedata.groupby('Categories')[['Likes','Comments']].mean()"
   ]
  },
  {
   "cell_type": "code",
   "execution_count": 34,
   "id": "b8086b73",
   "metadata": {},
   "outputs": [],
   "source": [
    "#Comparing Average Metrics and Identifying Exceptional Categories\n",
    "#Calculating thresholds for exceptional performance\n",
    "threshold_likes = average_metrics_by_category['Likes'].quantile(0.75)\n",
    "threshold_comments = average_metrics_by_category['Comments'].quantile(0.75)\n",
    "# Identify categories with exceptional performance based on the chosen thresholds\n",
    "exceptional_categories = average_metrics_by_category[\n",
    "    (average_metrics_by_category['Likes'] > threshold_likes) &\n",
    "    (average_metrics_by_category['Comments'] > threshold_comments)\n",
    "]"
   ]
  },
  {
   "cell_type": "code",
   "execution_count": 35,
   "id": "861a1400",
   "metadata": {},
   "outputs": [
    {
     "data": {
      "text/plain": [
       "57143.75"
      ]
     },
     "execution_count": 35,
     "metadata": {},
     "output_type": "execute_result"
    }
   ],
   "source": [
    "threshold_likes"
   ]
  },
  {
   "cell_type": "code",
   "execution_count": 36,
   "id": "af88af3d",
   "metadata": {},
   "outputs": [
    {
     "data": {
      "text/plain": [
       "1677.0"
      ]
     },
     "execution_count": 36,
     "metadata": {},
     "output_type": "execute_result"
    }
   ],
   "source": [
    "threshold_comments"
   ]
  },
  {
   "cell_type": "code",
   "execution_count": 37,
   "id": "603609bd",
   "metadata": {},
   "outputs": [
    {
     "data": {
      "text/html": [
       "<div>\n",
       "<style scoped>\n",
       "    .dataframe tbody tr th:only-of-type {\n",
       "        vertical-align: middle;\n",
       "    }\n",
       "\n",
       "    .dataframe tbody tr th {\n",
       "        vertical-align: top;\n",
       "    }\n",
       "\n",
       "    .dataframe thead th {\n",
       "        text-align: right;\n",
       "    }\n",
       "</style>\n",
       "<table border=\"1\" class=\"dataframe\">\n",
       "  <thead>\n",
       "    <tr style=\"text-align: right;\">\n",
       "      <th></th>\n",
       "      <th>Likes</th>\n",
       "      <th>Comments</th>\n",
       "    </tr>\n",
       "    <tr>\n",
       "      <th>Categories</th>\n",
       "      <th></th>\n",
       "      <th></th>\n",
       "    </tr>\n",
       "  </thead>\n",
       "  <tbody>\n",
       "    <tr>\n",
       "      <th>Animación, Humor</th>\n",
       "      <td>138667.115385</td>\n",
       "      <td>4704.384615</td>\n",
       "    </tr>\n",
       "    <tr>\n",
       "      <th>Animación, Videojuegos</th>\n",
       "      <td>79294.029412</td>\n",
       "      <td>3786.617647</td>\n",
       "    </tr>\n",
       "    <tr>\n",
       "      <th>Animales y mascotas</th>\n",
       "      <td>102750.000000</td>\n",
       "      <td>2806.000000</td>\n",
       "    </tr>\n",
       "    <tr>\n",
       "      <th>Comida y bebida</th>\n",
       "      <td>128664.750000</td>\n",
       "      <td>3053.416667</td>\n",
       "    </tr>\n",
       "    <tr>\n",
       "      <th>Diseño/arte, DIY y Life Hacks</th>\n",
       "      <td>127300.000000</td>\n",
       "      <td>2200.000000</td>\n",
       "    </tr>\n",
       "    <tr>\n",
       "      <th>Humor</th>\n",
       "      <td>169990.000000</td>\n",
       "      <td>5159.800000</td>\n",
       "    </tr>\n",
       "    <tr>\n",
       "      <th>Videojuegos, Humor</th>\n",
       "      <td>115543.750000</td>\n",
       "      <td>3972.500000</td>\n",
       "    </tr>\n",
       "  </tbody>\n",
       "</table>\n",
       "</div>"
      ],
      "text/plain": [
       "                                       Likes     Comments\n",
       "Categories                                               \n",
       "Animación, Humor               138667.115385  4704.384615\n",
       "Animación, Videojuegos          79294.029412  3786.617647\n",
       "Animales y mascotas            102750.000000  2806.000000\n",
       "Comida y bebida                128664.750000  3053.416667\n",
       "Diseño/arte, DIY y Life Hacks  127300.000000  2200.000000\n",
       "Humor                          169990.000000  5159.800000\n",
       "Videojuegos, Humor             115543.750000  3972.500000"
      ]
     },
     "execution_count": 37,
     "metadata": {},
     "output_type": "execute_result"
    }
   ],
   "source": [
    "exceptional_categories"
   ]
  },
  {
   "cell_type": "markdown",
   "id": "5c4b4b4a",
   "metadata": {},
   "source": [
    "## Brief Explanation\n",
    "This code snippet performs the following tasks:\n",
    "1. Counting Streamers in Each Content Category:\n",
    "\n",
    "It counts the number of streamers present in each content category by using the value_counts() function on the 'Categories' column of the youtubedata DataFrame. This creates a Series (streamers_by_category) showing the count of streamers in each category.\n",
    "2. Displaying Top Categories by Number of Streamers:\n",
    "\n",
    "It displays the top categories with the most streamers by taking the top 10 categories from the streamers_by_category Series using head(10) and printing the result.\n",
    "3. Visualizing the Distribution of Streamers by Content Category:\n",
    "\n",
    "It creates a bar plot to visualize the distribution of streamers across the top 10 categories. This plot shows the number of streamers on the y-axis and content categories on the x-axis, providing a visual representation of the streamer distribution among different categories.\n",
    "4. Identifying Categories with Exceptional Performance Metrics:\n",
    "\n",
    "It calculates the average metrics (likes and comments) for each content category using groupby() and mean() functions, creating a DataFrame named average_metrics_by_category.\n",
    "\n",
    "Then, it sets thresholds for exceptional performance based on the 75th percentile (quantile(0.75)) of likes and comments separately for each category.\n",
    "\n",
    "Finally, it identifies categories where the average likes and comments exceed these thresholds, storing these exceptional categories in the DataFrame exceptional_categories.\n",
    "\n",
    "\n",
    "\n",
    "This code helps in analyzing the distribution of streamers across various content categories and identifies categories that have a higher number of streamers, as well as categories exhibiting exceptional performance metrics (likes and comments) compared to the average across all categories. Adjustments in the thresholds or metric comparisons can be made based on specific criteria or business requirements."
   ]
  },
  {
   "cell_type": "markdown",
   "id": "df417f02",
   "metadata": {},
   "source": [
    "# 6. Brands and Collaborations: "
   ]
  },
  {
   "cell_type": "code",
   "execution_count": 38,
   "id": "c3bc92b0",
   "metadata": {},
   "outputs": [],
   "source": [
    "#Analyze whether streamers with high performance metrics receive more brand collaborations and marketing campaigns.\n",
    "# Calculate performance metrics (e.g., likes, comments) by aggregating data per streamer\n",
    "streamer_performance = youtubedata.groupby('Username')['Likes', 'Comments', 'Suscribers'].sum()\n",
    "\n",
    "# Consider a threshold for high performance based on your criteria\n",
    "threshold_likes = streamer_performance['Likes'].quantile(0.75)\n",
    "threshold_comments = streamer_performance['Comments'].quantile(0.75)\n",
    "threshold_subscribers = streamer_performance['Suscribers'].quantile(0.75)\n",
    "\n",
    "# Identify streamers with high performance based on the chosen thresholds\n",
    "high_performance_streamers = streamer_performance[\n",
    "    (streamer_performance['Likes'] >= threshold_likes) &\n",
    "    (streamer_performance['Comments'] >= threshold_comments) &\n",
    "    (streamer_performance['Suscribers'] >= threshold_subscribers)\n",
    "]\n"
   ]
  },
  {
   "cell_type": "code",
   "execution_count": 39,
   "id": "72562749",
   "metadata": {
    "scrolled": false
   },
   "outputs": [
    {
     "name": "stdout",
     "output_type": "stream",
     "text": [
      "High-Performing Content Creators:\n",
      "                          Suscribers      Likes  Comments\n",
      "Username                                                 \n",
      "AboFlah                   32700000.0   382000.0   11400.0\n",
      "AlejoIgoa                 25700000.0   208400.0    1700.0\n",
      "AmiRodrigueZZ             22900000.0   294400.0    1300.0\n",
      "BenAzelart                22500000.0    44900.0    2700.0\n",
      "DaFuqBoom                 29800000.0  1700000.0   82800.0\n",
      "DanTDM                    27800000.0   285000.0   52500.0\n",
      "JamesCharles              23900000.0    62300.0    1100.0\n",
      "LosPolinesios             25700000.0    38400.0     866.0\n",
      "MrBeast2                  31300000.0  5000000.0   11600.0\n",
      "NichLmao                  27500000.0    85800.0    1600.0\n",
      "RAFAELUIZOFICIAL          22100000.0    30500.0     522.0\n",
      "SSSniperWolf              34200000.0    34600.0    2100.0\n",
      "SSundee                   22700000.0    59800.0    1800.0\n",
      "SandeepSeminars           28000000.0    58500.0    4000.0\n",
      "StokesTwins               22700000.0   235000.0   10000.0\n",
      "TotalGaming093            36300000.0   129400.0    4900.0\n",
      "VanossGaming              25900000.0    56500.0    1100.0\n",
      "ZHCYT                     25700000.0   127300.0    2200.0\n",
      "ZachKing                  22600000.0   238500.0     522.0\n",
      "alanbecker                24300000.0   582600.0    5900.0\n",
      "brentrivera               27600000.0   154100.0    5000.0\n",
      "capitanyolotroll          23100000.0   189300.0     827.0\n",
      "dream                     31900000.0   309200.0   19000.0\n",
      "enaldinho                 30600000.0    63400.0     838.0\n",
      "fedevigevani              32000000.0   412200.0   17000.0\n",
      "infinite                  21700000.0    45700.0    1400.0\n",
      "jacksepticeye             30400000.0    83400.0    2300.0\n",
      "juandediospantojaa        24000000.0   133200.0    3600.0\n",
      "khangsresearchcentre1685  21700000.0   501700.0   17000.0\n",
      "markiplier                35500000.0   126500.0    3800.0\n",
      "nickiminaj                26100000.0    98300.0    7600.0\n",
      "renatongarcia             27200000.0    68800.0     833.0\n",
      "royaltyfam                21900000.0    67000.0    6600.0\n",
      "rug                       24300000.0    85300.0    5100.0\n",
      "souravjoshivlogs7028      22700000.0   382300.0    8900.0\n",
      "topperguild               24900000.0    77600.0     838.0\n"
     ]
    }
   ],
   "source": [
    "#Analyzing Brand Collaborations for High-Performance Streamers:\n",
    "# Check if high-performance streamers have more brand collaborations\n",
    "\n",
    "# Count brand collaborations for high-performance streamers\n",
    "print(\"High-Performing Content Creators:\")\n",
    "print(high_performance_streamers[[ 'Suscribers', 'Likes', 'Comments']])"
   ]
  },
  {
   "cell_type": "markdown",
   "id": "eb76c30c",
   "metadata": {},
   "source": [
    "## Brief Explanation\n",
    "This code segment initially calculates performance metrics (likes, comments, subscribers) by aggregating the data per streamer using the groupby() function in pandas:\n",
    "\n",
    "1. Aggregating Performance Metrics:It groups the data in the 'youtubedata' DataFrame by the 'Username' column and aggregates the total likes, comments, and subscribers for each individual streamer using the 'sum()' function. This creates a new DataFrame called 'streamer_performance' that shows the total metrics for each streamer.\n",
    "2. Setting Thresholds for High Performance:The code then calculates thresholds for high performance by finding the 75th percentile (quantile of 0.75) of likes, comments, and subscribers separately using the 'quantile()' function. These thresholds ('threshold_likes', 'threshold_comments', 'threshold_subscribers') will be used to define high-performance streamers.\n",
    "3. Identifying High-Performance Streamers:Next, it filters the 'streamer_performance' DataFrame to identify streamers whose total likes, comments, and subscribers are equal to or higher than the calculated thresholds for high performance. This creates a new DataFrame called 'high_performance_streamers' containing the streamers meeting these criteria.\n",
    "4. Checking Brand Collaborations (not implemented in the provided code snippet): The code snippet you provided ends with displaying information about high-performance streamers ('high_performance_streamers[[ 'Suscribers', 'Likes', 'Comments']]'). However, there isn't explicit code in this snippet to check or count brand collaborations for these high-performance streamers.\n",
    "\n",
    "To analyze whether high-performance streamers have more brand collaborations or marketing campaigns, you'd need additional data or columns indicating brand collaborations. This could involve integrating columns related to brand partnerships or collaboration counts for each streamer in the dataset.\n",
    "\n",
    "This snippet prepares the identification of high-performance streamers based on set performance thresholds but lacks the specific analysis or counting of brand collaborations for these identified high-performance streamers. Integration of relevant brand collaboration data would be needed to perform that analysis effectively."
   ]
  },
  {
   "cell_type": "markdown",
   "id": "b6f9370a",
   "metadata": {},
   "source": [
    "# 7. Benchmarking"
   ]
  },
  {
   "cell_type": "code",
   "execution_count": 42,
   "id": "6dde089f",
   "metadata": {
    "scrolled": true
   },
   "outputs": [
    {
     "name": "stdout",
     "output_type": "stream",
     "text": [
      "Top 10 Performers by Likes:\n",
      "                     Username      Likes\n",
      "136                  MrBeast2  5000000.0\n",
      "153                 DaFuqBoom  1700000.0\n",
      "341           triggeredinsaan  1400000.0\n",
      "238                alanbecker   582600.0\n",
      "306  khangsresearchcentre1685   501700.0\n",
      "366                    Vsauce   449000.0\n",
      "131              fedevigevani   412200.0\n",
      "401           IanLucasOficial   401700.0\n",
      "282      souravjoshivlogs7028   382300.0\n",
      "122                   AboFlah   382000.0\n",
      "\n",
      "Top 10 Performers by Comments:\n",
      "                     Username  Comments\n",
      "153                 DaFuqBoom   82800.0\n",
      "177                    DanTDM   52500.0\n",
      "341           triggeredinsaan   38000.0\n",
      "132                     dream   19000.0\n",
      "131              fedevigevani   17000.0\n",
      "306  khangsresearchcentre1685   17000.0\n",
      "318                kurzgesagt   14000.0\n",
      "136                  MrBeast2   11600.0\n",
      "122                   AboFlah   11400.0\n",
      "278               StokesTwins   10000.0\n",
      "\n",
      "Top 10 Performers by Subscribers:\n",
      "            Username  Suscribers\n",
      "96    TotalGaming093  36300000.0\n",
      "100       markiplier  35500000.0\n",
      "122          AboFlah  32700000.0\n",
      "131     fedevigevani  32000000.0\n",
      "132            dream  31900000.0\n",
      "136         MrBeast2  31300000.0\n",
      "145    jacksepticeye  30400000.0\n",
      "153        DaFuqBoom  29800000.0\n",
      "171  SandeepSeminars  28000000.0\n",
      "177           DanTDM  27800000.0\n"
     ]
    }
   ],
   "source": [
    "#- Identify streamers with above-average performance in terms of subscribers, visits, likes, and comments.\n",
    "# Identify top-performing content creators based on above-average metrics\n",
    "# Calculate average metrics\n",
    "average_likes = youtubedata['Likes'].mean()\n",
    "average_comments = youtubedata['Comments'].mean()\n",
    "average_subscribers = youtubedata['Suscribers'].mean()\n",
    "\n",
    "# Filter top performers based on above-average metrics\n",
    "top_performers = youtubedata[\n",
    "    (youtubedata['Likes'] > average_likes) &\n",
    "    (youtubedata['Comments'] > average_comments) &\n",
    "    (youtubedata['Suscribers'] > average_subscribers)\n",
    "]\n",
    "\n",
    "# Sort by different metrics to get top performers for each metric\n",
    "top_likes = top_performers.nlargest(10, 'Likes')[['Username', 'Likes']]\n",
    "top_comments = top_performers.nlargest(10, 'Comments')[['Username', 'Comments']]\n",
    "top_subscribers = top_performers.nlargest(10, 'Suscribers')[['Username', 'Suscribers']]\n",
    "\n",
    "# Display top 10 performers for each metric\n",
    "print(\"Top 10 Performers by Likes:\")\n",
    "print(top_likes)\n",
    "print(\"\\nTop 10 Performers by Comments:\")\n",
    "print(top_comments)\n",
    "print(\"\\nTop 10 Performers by Subscribers:\")\n",
    "print(top_subscribers)"
   ]
  },
  {
   "cell_type": "markdown",
   "id": "82c418db",
   "metadata": {},
   "source": [
    "## Brief Explanation\n",
    "\n",
    "This code segment aims to identify and display the top ten content creators based on different performance metrics (likes, comments, subscribers). Here's a breakdown:\n",
    "1. Calculating Average Metrics:The code starts by calculating the average values for 'likes','comments', and 'subscribers' from the 'Likes', 'Comments', and 'Subscribers' columns of the 'youtubedata' DataFrame using the 'mean()' function.\n",
    "\n",
    "2. Filtering Top Performers:It filters the 'youtubedata' DataFrame to find content creators whose metrics (likes, comments, subscribers) are higher than the average values calculated earlier. This is done using boolean indexing and the '&' operator to combine conditions.\n",
    "3. Identifying Top Performers for Each Metric:For each metric (likes, comments, subscribers), it sorts the filtered DataFrame ('top_performers') in descending order based on that specific metric using the 'nlargest()' function. This function selects the top ten performers for each metric separately.\n",
    "4. Displaying Top Performers:The code then displays the top ten performers for each metric in a tabular format. It prints the usernames of the content creators along with their corresponding metric values (likes, comments, subscribers).\n",
    "\n",
    "In summary, this code snippet helps to identify and display the top ten content creators separately for likes, comments, and subscribers based on their performance metrics, providing insights into the top-performing creators in each category. Adjust the column names ('Likes', 'Comments', 'Subscribers') in the code to match your actual dataset columns if they are different.\n"
   ]
  },
  {
   "cell_type": "markdown",
   "id": "39a3776a",
   "metadata": {},
   "source": [
    "# 8. Content Recommendations:"
   ]
  },
  {
   "cell_type": "code",
   "execution_count": 41,
   "id": "225f301f",
   "metadata": {
    "scrolled": true
   },
   "outputs": [
    {
     "name": "stdout",
     "output_type": "stream",
     "text": [
      "Recommended similar creators: ['DaddyYankee', 'MariaClaraeJP', 'PowerKidstv', 'SaregamaMusic', 'RicisOfficial1795', 'IndiaTV', 'LaGranjaDeZenon', 'tseriesoldisgold', 'Ozuna', 'GenevievesPlayhouse']\n"
     ]
    }
   ],
   "source": [
    "from sklearn.metrics import jaccard_score\n",
    "\n",
    "# Function to recommend similar content creators based on categories using Jaccard similarity\n",
    "def recommend_similar_creators(username, df=youtubedata):\n",
    "    try:\n",
    "        user_categories = set(df[df['Username'] == username]['Categories'].iloc[0].split(','))\n",
    "\n",
    "        similar_creators = []\n",
    "        for _, row in df.iterrows():\n",
    "            if row['Username'] != username:\n",
    "                other_user_categories = set(row['Categories'].split(','))\n",
    "                \n",
    "                # Handling empty sets or different lengths\n",
    "                if len(user_categories) == 0 or len(other_user_categories) == 0:\n",
    "                    similarity_score = 0.0  # Consider them dissimilar\n",
    "                else:\n",
    "                    try:\n",
    "                        similarity_score = jaccard_score(user_categories, other_user_categories)\n",
    "                    except ValueError:\n",
    "                        similarity_score = 0.0  # In case of ValueError, consider them dissimilar\n",
    "\n",
    "                similar_creators.append((row['Username'], similarity_score))\n",
    "\n",
    "        similar_creators = sorted(similar_creators, key=lambda x: x[1], reverse=True)[:10]  # Get top 10 similar creators\n",
    "        return [username for username, _ in similar_creators]\n",
    "    except IndexError:\n",
    "        return \"Username not found or insufficient data for recommendations.\"\n",
    "    \n",
    "#Calling the function    \n",
    "recommendations = recommend_similar_creators('TotalGaming093', df=youtubedata)\n",
    "\n",
    "# Print recommendations\n",
    "print(\"Recommended similar creators:\", recommendations)"
   ]
  },
  {
   "cell_type": "markdown",
   "id": "4f17e526",
   "metadata": {},
   "source": [
    "## Brief Explanation\n",
    "\n",
    "The code defines a function called recommend_similar_creators that aims to find content creators similar to a specified username based on shared categories. Here's a breakdown:\n",
    "\n",
    "1. Comparing Categories:\n",
    "When you provide a username as input to the function, it extracts the categories associated with that username from the DataFrame. Then, it iterates through each content creator in the DataFrame, excluding the provided username.\n",
    "2. Calculating Similarity:\n",
    "For each other content creator, it looks at the categories they are associated with and computes a similarity score (using Jaccard similarity) between their categories and the categories of the specified username.\n",
    "3. Creating Recommendations:\n",
    "The function collects these similarity scores for all creators, sorts them in descending order, and selects the top 10 creators who share the most similar content categories with the specified username. Finally, it returns a list of usernames as recommendations for similar content creators.\n",
    "\n",
    "Overall, the function helps find YouTube content creators who produce content similar to a particular user based on shared categories of content."
   ]
  }
 ],
 "metadata": {
  "kernelspec": {
   "display_name": "Python 3 (ipykernel)",
   "language": "python",
   "name": "python3"
  },
  "language_info": {
   "codemirror_mode": {
    "name": "ipython",
    "version": 3
   },
   "file_extension": ".py",
   "mimetype": "text/x-python",
   "name": "python",
   "nbconvert_exporter": "python",
   "pygments_lexer": "ipython3",
   "version": "3.9.7"
  }
 },
 "nbformat": 4,
 "nbformat_minor": 5
}
